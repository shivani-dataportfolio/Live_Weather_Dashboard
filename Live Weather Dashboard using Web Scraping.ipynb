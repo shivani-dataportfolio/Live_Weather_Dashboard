{
 "cells": [
  {
   "cell_type": "code",
   "execution_count": 1,
   "id": "b2502e99",
   "metadata": {},
   "outputs": [
    {
     "name": "stdout",
     "output_type": "stream",
     "text": [
      "Requirement already satisfied: requests in c:\\users\\shiny\\anaconda3\\lib\\site-packages (2.31.0)\n",
      "Requirement already satisfied: pandas in c:\\users\\shiny\\anaconda3\\lib\\site-packages (1.5.3)\n",
      "Requirement already satisfied: charset-normalizer<4,>=2 in c:\\users\\shiny\\anaconda3\\lib\\site-packages (from requests) (2.0.4)\n",
      "Requirement already satisfied: idna<4,>=2.5 in c:\\users\\shiny\\anaconda3\\lib\\site-packages (from requests) (3.4)\n",
      "Requirement already satisfied: urllib3<3,>=1.21.1 in c:\\users\\shiny\\anaconda3\\lib\\site-packages (from requests) (1.26.16)\n",
      "Requirement already satisfied: certifi>=2017.4.17 in c:\\users\\shiny\\anaconda3\\lib\\site-packages (from requests) (2023.7.22)\n",
      "Requirement already satisfied: python-dateutil>=2.8.1 in c:\\users\\shiny\\anaconda3\\lib\\site-packages (from pandas) (2.8.2)\n",
      "Requirement already satisfied: pytz>=2020.1 in c:\\users\\shiny\\anaconda3\\lib\\site-packages (from pandas) (2022.7)\n",
      "Requirement already satisfied: numpy>=1.21.0 in c:\\users\\shiny\\anaconda3\\lib\\site-packages (from pandas) (1.24.3)\n",
      "Requirement already satisfied: six>=1.5 in c:\\users\\shiny\\anaconda3\\lib\\site-packages (from python-dateutil>=2.8.1->pandas) (1.16.0)\n"
     ]
    }
   ],
   "source": [
    "!pip install requests pandas\n"
   ]
  },
  {
   "cell_type": "code",
   "execution_count": 29,
   "id": "65ff55ea",
   "metadata": {},
   "outputs": [],
   "source": [
    "import requests\n",
    "import pandas as pd\n",
    "from datetime import datetime\n"
   ]
  },
  {
   "cell_type": "code",
   "execution_count": 30,
   "id": "2e5a890b",
   "metadata": {},
   "outputs": [],
   "source": [
    "cities = ['Hyderabad', 'Darjeeling', 'Delhi', 'Mumbai', 'Chennai', 'Bangalore']\n"
   ]
  },
  {
   "cell_type": "code",
   "execution_count": 31,
   "id": "cdbbd0f5",
   "metadata": {},
   "outputs": [],
   "source": [
    "weather_data = []\n",
    "\n",
    "for city in cities:\n",
    "    try:\n",
    "        url = f'https://wttr.in/{city}?format=j1'\n",
    "        response = requests.get(url)\n",
    "        data = response.json()\n",
    "\n",
    "        current = data['current_condition'][0]\n",
    "\n",
    "        weather_data.append({\n",
    "            'City': city,\n",
    "            'Temperature (°C)': current['temp_C'],\n",
    "            'Feels Like (°C)': current['FeelsLikeC'],\n",
    "            'Humidity (%)': current['humidity'],\n",
    "            'Wind Speed (kmph)': current['windspeedKmph'],\n",
    "            'Condition': current['weatherDesc'][0]['value'],\n",
    "            'Time': datetime.now().strftime('%Y-%m-%d %H:%M:%S')\n",
    "        })\n",
    "\n",
    "    except Exception as e:\n",
    "        print(f\"Error fetching data for {city}: {e}\")\n"
   ]
  },
  {
   "cell_type": "code",
   "execution_count": 32,
   "id": "ce4052d0",
   "metadata": {},
   "outputs": [
    {
     "data": {
      "text/html": [
       "<div>\n",
       "<style scoped>\n",
       "    .dataframe tbody tr th:only-of-type {\n",
       "        vertical-align: middle;\n",
       "    }\n",
       "\n",
       "    .dataframe tbody tr th {\n",
       "        vertical-align: top;\n",
       "    }\n",
       "\n",
       "    .dataframe thead th {\n",
       "        text-align: right;\n",
       "    }\n",
       "</style>\n",
       "<table border=\"1\" class=\"dataframe\">\n",
       "  <thead>\n",
       "    <tr style=\"text-align: right;\">\n",
       "      <th></th>\n",
       "      <th>City</th>\n",
       "      <th>Temperature (°C)</th>\n",
       "      <th>Feels Like (°C)</th>\n",
       "      <th>Humidity (%)</th>\n",
       "      <th>Wind Speed (kmph)</th>\n",
       "      <th>Condition</th>\n",
       "      <th>Time</th>\n",
       "    </tr>\n",
       "  </thead>\n",
       "  <tbody>\n",
       "    <tr>\n",
       "      <th>0</th>\n",
       "      <td>Hyderabad</td>\n",
       "      <td>26</td>\n",
       "      <td>28</td>\n",
       "      <td>74</td>\n",
       "      <td>30</td>\n",
       "      <td>Haze</td>\n",
       "      <td>2025-06-22 15:49:32</td>\n",
       "    </tr>\n",
       "    <tr>\n",
       "      <th>1</th>\n",
       "      <td>Darjeeling</td>\n",
       "      <td>33</td>\n",
       "      <td>41</td>\n",
       "      <td>60</td>\n",
       "      <td>4</td>\n",
       "      <td>Light rain shower</td>\n",
       "      <td>2025-06-22 15:49:34</td>\n",
       "    </tr>\n",
       "    <tr>\n",
       "      <th>2</th>\n",
       "      <td>Delhi</td>\n",
       "      <td>33</td>\n",
       "      <td>36</td>\n",
       "      <td>67</td>\n",
       "      <td>6</td>\n",
       "      <td>Haze</td>\n",
       "      <td>2025-06-22 15:49:36</td>\n",
       "    </tr>\n",
       "    <tr>\n",
       "      <th>3</th>\n",
       "      <td>Mumbai</td>\n",
       "      <td>29</td>\n",
       "      <td>35</td>\n",
       "      <td>79</td>\n",
       "      <td>27</td>\n",
       "      <td>Mist, rain shower</td>\n",
       "      <td>2025-06-22 15:49:38</td>\n",
       "    </tr>\n",
       "    <tr>\n",
       "      <th>4</th>\n",
       "      <td>Chennai</td>\n",
       "      <td>34</td>\n",
       "      <td>38</td>\n",
       "      <td>60</td>\n",
       "      <td>10</td>\n",
       "      <td>Partly cloudy</td>\n",
       "      <td>2025-06-22 15:49:39</td>\n",
       "    </tr>\n",
       "    <tr>\n",
       "      <th>5</th>\n",
       "      <td>Bangalore</td>\n",
       "      <td>26</td>\n",
       "      <td>28</td>\n",
       "      <td>74</td>\n",
       "      <td>29</td>\n",
       "      <td>Partly cloudy</td>\n",
       "      <td>2025-06-22 15:49:41</td>\n",
       "    </tr>\n",
       "  </tbody>\n",
       "</table>\n",
       "</div>"
      ],
      "text/plain": [
       "         City Temperature (°C) Feels Like (°C) Humidity (%) Wind Speed (kmph)  \\\n",
       "0   Hyderabad               26              28           74                30   \n",
       "1  Darjeeling               33              41           60                 4   \n",
       "2       Delhi               33              36           67                 6   \n",
       "3      Mumbai               29              35           79                27   \n",
       "4     Chennai               34              38           60                10   \n",
       "5   Bangalore               26              28           74                29   \n",
       "\n",
       "           Condition                 Time  \n",
       "0               Haze  2025-06-22 15:49:32  \n",
       "1  Light rain shower  2025-06-22 15:49:34  \n",
       "2               Haze  2025-06-22 15:49:36  \n",
       "3  Mist, rain shower  2025-06-22 15:49:38  \n",
       "4      Partly cloudy  2025-06-22 15:49:39  \n",
       "5      Partly cloudy  2025-06-22 15:49:41  "
      ]
     },
     "execution_count": 32,
     "metadata": {},
     "output_type": "execute_result"
    }
   ],
   "source": [
    "df = pd.DataFrame(weather_data)\n",
    "df\n"
   ]
  },
  {
   "cell_type": "code",
   "execution_count": 33,
   "id": "6ab00805",
   "metadata": {},
   "outputs": [
    {
     "data": {
      "image/png": "[encoded data removed]",
      "text/plain": [
       "<Figure size 1000x500 with 1 Axes>"
      ]
     },
     "metadata": {},
     "output_type": "display_data"
    }
   ],
   "source": [
    "import matplotlib.pyplot as plt\n",
    "\n",
    "plt.figure(figsize=(10, 5))\n",
    "plt.bar(df['City'], df['Temperature (°C)'].astype(int), color='skyblue')\n",
    "plt.title(\"Temperature Across Cities\")\n",
    "plt.xlabel(\"City\")\n",
    "plt.ylabel(\"Temperature (°C)\")\n",
    "plt.grid(axis='y')\n",
    "plt.show()\n"
   ]
  },
  {
   "cell_type": "code",
   "execution_count": 34,
   "id": "259343db",
   "metadata": {},
   "outputs": [],
   "source": [
    "def status(temp):\n",
    "    temp = int(temp)\n",
    "    if temp >= 35:\n",
    "        return \"🔥 Hot\"\n",
    "    elif temp >= 25:\n",
    "        return \"🌤️ Warm\"\n",
    "    elif temp >= 15:\n",
    "        return \"☁️ Mild\"\n",
    "    else:\n",
    "        return \"❄️ Cold\"\n",
    "\n",
    "df['Status'] = df['Temperature (°C)'].apply(status)\n"
   ]
  },
  {
   "cell_type": "code",
   "execution_count": 35,
   "id": "0453aa70",
   "metadata": {},
   "outputs": [
    {
     "data": {
      "text/html": [
       "<div>\n",
       "<style scoped>\n",
       "    .dataframe tbody tr th:only-of-type {\n",
       "        vertical-align: middle;\n",
       "    }\n",
       "\n",
       "    .dataframe tbody tr th {\n",
       "        vertical-align: top;\n",
       "    }\n",
       "\n",
       "    .dataframe thead th {\n",
       "        text-align: right;\n",
       "    }\n",
       "</style>\n",
       "<table border=\"1\" class=\"dataframe\">\n",
       "  <thead>\n",
       "    <tr style=\"text-align: right;\">\n",
       "      <th></th>\n",
       "      <th>City</th>\n",
       "      <th>Temperature (°C)</th>\n",
       "      <th>Feels Like (°C)</th>\n",
       "      <th>Humidity (%)</th>\n",
       "      <th>Wind Speed (kmph)</th>\n",
       "      <th>Condition</th>\n",
       "      <th>Time</th>\n",
       "      <th>Status</th>\n",
       "    </tr>\n",
       "  </thead>\n",
       "  <tbody>\n",
       "    <tr>\n",
       "      <th>4</th>\n",
       "      <td>Chennai</td>\n",
       "      <td>34</td>\n",
       "      <td>38</td>\n",
       "      <td>60</td>\n",
       "      <td>10</td>\n",
       "      <td>Partly cloudy</td>\n",
       "      <td>2025-06-22 15:49:39</td>\n",
       "      <td>🌤️ Warm</td>\n",
       "    </tr>\n",
       "    <tr>\n",
       "      <th>1</th>\n",
       "      <td>Darjeeling</td>\n",
       "      <td>33</td>\n",
       "      <td>41</td>\n",
       "      <td>60</td>\n",
       "      <td>4</td>\n",
       "      <td>Light rain shower</td>\n",
       "      <td>2025-06-22 15:49:34</td>\n",
       "      <td>🌤️ Warm</td>\n",
       "    </tr>\n",
       "    <tr>\n",
       "      <th>2</th>\n",
       "      <td>Delhi</td>\n",
       "      <td>33</td>\n",
       "      <td>36</td>\n",
       "      <td>67</td>\n",
       "      <td>6</td>\n",
       "      <td>Haze</td>\n",
       "      <td>2025-06-22 15:49:36</td>\n",
       "      <td>🌤️ Warm</td>\n",
       "    </tr>\n",
       "    <tr>\n",
       "      <th>3</th>\n",
       "      <td>Mumbai</td>\n",
       "      <td>29</td>\n",
       "      <td>35</td>\n",
       "      <td>79</td>\n",
       "      <td>27</td>\n",
       "      <td>Mist, rain shower</td>\n",
       "      <td>2025-06-22 15:49:38</td>\n",
       "      <td>🌤️ Warm</td>\n",
       "    </tr>\n",
       "    <tr>\n",
       "      <th>0</th>\n",
       "      <td>Hyderabad</td>\n",
       "      <td>26</td>\n",
       "      <td>28</td>\n",
       "      <td>74</td>\n",
       "      <td>30</td>\n",
       "      <td>Haze</td>\n",
       "      <td>2025-06-22 15:49:32</td>\n",
       "      <td>🌤️ Warm</td>\n",
       "    </tr>\n",
       "    <tr>\n",
       "      <th>5</th>\n",
       "      <td>Bangalore</td>\n",
       "      <td>26</td>\n",
       "      <td>28</td>\n",
       "      <td>74</td>\n",
       "      <td>29</td>\n",
       "      <td>Partly cloudy</td>\n",
       "      <td>2025-06-22 15:49:41</td>\n",
       "      <td>🌤️ Warm</td>\n",
       "    </tr>\n",
       "  </tbody>\n",
       "</table>\n",
       "</div>"
      ],
      "text/plain": [
       "         City Temperature (°C) Feels Like (°C) Humidity (%) Wind Speed (kmph)  \\\n",
       "4     Chennai               34              38           60                10   \n",
       "1  Darjeeling               33              41           60                 4   \n",
       "2       Delhi               33              36           67                 6   \n",
       "3      Mumbai               29              35           79                27   \n",
       "0   Hyderabad               26              28           74                30   \n",
       "5   Bangalore               26              28           74                29   \n",
       "\n",
       "           Condition                 Time   Status  \n",
       "4      Partly cloudy  2025-06-22 15:49:39  🌤️ Warm  \n",
       "1  Light rain shower  2025-06-22 15:49:34  🌤️ Warm  \n",
       "2               Haze  2025-06-22 15:49:36  🌤️ Warm  \n",
       "3  Mist, rain shower  2025-06-22 15:49:38  🌤️ Warm  \n",
       "0               Haze  2025-06-22 15:49:32  🌤️ Warm  \n",
       "5      Partly cloudy  2025-06-22 15:49:41  🌤️ Warm  "
      ]
     },
     "execution_count": 35,
     "metadata": {},
     "output_type": "execute_result"
    }
   ],
   "source": [
    "df_sorted = df.sort_values(by='Temperature (°C)', ascending=False)\n",
    "df_sorted\n"
   ]
  },
  {
   "cell_type": "code",
   "execution_count": 36,
   "id": "15bcba04",
   "metadata": {},
   "outputs": [],
   "source": [
    "timestamp = datetime.now().strftime('%Y%m%d_%H%M%S')\n",
    "df.to_csv(f\"Weather_Log_{timestamp}.csv\", index=False)\n"
   ]
  },
  {
   "cell_type": "code",
   "execution_count": 37,
   "id": "80dffe2c",
   "metadata": {},
   "outputs": [
    {
     "name": "stdout",
     "output_type": "stream",
     "text": [
      "Average Temperature: 30.166666666666668\n",
      "Highest Humidity: City                              Mumbai\n",
      "Temperature (°C)                      29\n",
      "Feels Like (°C)                       35\n",
      "Humidity (%)                          79\n",
      "Wind Speed (kmph)                     27\n",
      "Condition              Mist, rain shower\n",
      "Time                 2025-06-22 15:49:38\n",
      "Status                           🌤️ Warm\n",
      "Name: 3, dtype: object\n"
     ]
    }
   ],
   "source": [
    "print(\"Average Temperature:\", df['Temperature (°C)'].astype(int).mean())\n",
    "print(\"Highest Humidity:\", df.loc[df['Humidity (%)'].astype(int).idxmax()])\n"
   ]
  },
  {
   "cell_type": "code",
   "execution_count": 2,
   "id": "d73ee3da",
   "metadata": {},
   "outputs": [
    {
     "name": "stdout",
     "output_type": "stream",
     "text": [
      "Requirement already satisfied: plotly in c:\\users\\shiny\\anaconda3\\lib\\site-packages (5.9.0)\n",
      "Requirement already satisfied: tenacity>=6.2.0 in c:\\users\\shiny\\anaconda3\\lib\\site-packages (from plotly) (8.2.2)\n"
     ]
    },
    {
     "ename": "NameError",
     "evalue": "name 'df' is not defined",
     "output_type": "error",
     "traceback": [
      "\u001b[1;31m---------------------------------------------------------------------------\u001b[0m",
      "\u001b[1;31mNameError\u001b[0m                                 Traceback (most recent call last)",
      "Cell \u001b[1;32mIn[2], line 4\u001b[0m\n\u001b[0;32m      1\u001b[0m get_ipython()\u001b[38;5;241m.\u001b[39msystem(\u001b[38;5;124m'\u001b[39m\u001b[38;5;124mpip install plotly\u001b[39m\u001b[38;5;124m'\u001b[39m)\n\u001b[0;32m      3\u001b[0m \u001b[38;5;28;01mimport\u001b[39;00m \u001b[38;5;21;01mplotly\u001b[39;00m\u001b[38;5;21;01m.\u001b[39;00m\u001b[38;5;21;01mexpress\u001b[39;00m \u001b[38;5;28;01mas\u001b[39;00m \u001b[38;5;21;01mpx\u001b[39;00m\n\u001b[1;32m----> 4\u001b[0m fig \u001b[38;5;241m=\u001b[39m px\u001b[38;5;241m.\u001b[39mbar(df, x\u001b[38;5;241m=\u001b[39m\u001b[38;5;124m'\u001b[39m\u001b[38;5;124mCity\u001b[39m\u001b[38;5;124m'\u001b[39m, y\u001b[38;5;241m=\u001b[39m\u001b[38;5;124m'\u001b[39m\u001b[38;5;124mTemperature (°C)\u001b[39m\u001b[38;5;124m'\u001b[39m, color\u001b[38;5;241m=\u001b[39m\u001b[38;5;124m'\u001b[39m\u001b[38;5;124mCondition\u001b[39m\u001b[38;5;124m'\u001b[39m, title\u001b[38;5;241m=\u001b[39m\u001b[38;5;124m\"\u001b[39m\u001b[38;5;124mCity-wise Temperature\u001b[39m\u001b[38;5;124m\"\u001b[39m)\n\u001b[0;32m      5\u001b[0m fig\u001b[38;5;241m.\u001b[39mshow()\n",
      "\u001b[1;31mNameError\u001b[0m: name 'df' is not defined"
     ]
    }
   ],
   "source": [
    "!pip install plotly\n",
    "\n",
    "import plotly.express as px\n",
    "fig = px.bar(df, x='City', y='Temperature (°C)', color='Condition', title=\"City-wise Temperature\")\n",
    "fig.show()\n"
   ]
  },
  {
   "cell_type": "markdown",
   "id": "e9350244",
   "metadata": {},
   "source": [
    "## 🌤️ \n",
    "- Data scraped using `wttr.in` API\n",
    "- Includes 6 cities (Hyderabad, Darjeeling, etc.)\n",
    "- Metrics: Temperature, Humidity, Wind, Condition\n",
    "- Visualized using Matplotlib / Plotly\n",
    "- Saved to CSV for historical tracking\n"
   ]
  }
 ],
 "metadata": {
  "kernelspec": {
   "display_name": "Python 3 (ipykernel)",
   "language": "python",
   "name": "python3"
  },
  "language_info": {
   "codemirror_mode": {
    "name": "ipython",
    "version": 3
   },
   "file_extension": ".py",
   "mimetype": "text/x-python",
   "name": "python",
   "nbconvert_exporter": "python",
   "pygments_lexer": "ipython3",
   "version": "3.11.4"
  }
 },
 "nbformat": 4,
 "nbformat_minor": 5
}
